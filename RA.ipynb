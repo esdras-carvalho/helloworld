{
  "nbformat": 4,
  "nbformat_minor": 0,
  "metadata": {
    "colab": {
      "name": "Untitled1.ipynb",
      "provenance": [],
      "authorship_tag": "ABX9TyMJQ/a2E5A5e8QvWxOuHPzr",
      "include_colab_link": true
    },
    "kernelspec": {
      "name": "python3",
      "display_name": "Python 3"
    },
    "language_info": {
      "name": "python"
    }
  },
  "cells": [
    {
      "cell_type": "markdown",
      "metadata": {
        "id": "view-in-github",
        "colab_type": "text"
      },
      "source": [
        "<a href=\"https://colab.research.google.com/github/esdras-carvalho/helloworld/blob/master/RA.ipynb\" target=\"_parent\"><img src=\"https://colab.research.google.com/assets/colab-badge.svg\" alt=\"Open In Colab\"/></a>"
      ]
    },
    {
      "cell_type": "code",
      "metadata": {
        "colab": {
          "base_uri": "https://localhost:8080/"
        },
        "id": "pdDW8s_2_v7A",
        "outputId": "c52bf31d-bdc6-4ce1-c590-30b37190e16c"
      },
      "source": [
        "saldo = float(input(\" insira seu saldo: \"))\n",
        "limite_credito = 600\n",
        "if saldo < 0 : print(\"Seu saldo é de \", saldo , \" negativo. \")\n",
        "if saldo < -600 : print(\"Seu saldo é inferior ao cheque especial\")\n",
        "if saldo >=0 : print(\"Seu saldo é de \", saldo, \" positivo.\")"
      ],
      "execution_count": 10,
      "outputs": [
        {
          "output_type": "stream",
          "text": [
            " insira seu saldo: -601\n",
            "Seu saldo é de  -601.0  negativo. \n",
            "Seu saldo é inferior ao cheque especial\n"
          ],
          "name": "stdout"
        }
      ]
    },
    {
      "cell_type": "code",
      "metadata": {
        "colab": {
          "base_uri": "https://localhost:8080/"
        },
        "id": "CQBill5AR3_5",
        "outputId": "86c6fbfe-6f2d-4094-b073-ee00f0548312"
      },
      "source": [
        "nota1 = float(input(\"digite a nota 1 = \"))\n",
        "nota2 = float(input(\"digite a nota 2 = \"))\n",
        "nota3 = float(input(\"digite a nota 3 = \"))\n",
        "nota4 = float(input(\"digite a nota 4 = \"))\n",
        "media = (nota1 + nota2 + nota3 + nota4)/4\n",
        "print(\"Media = \", media)\n",
        "if media >= 7:\n",
        "  print(\"Aprovado\")\n",
        "elif media >= 4:\n",
        "    print(\"Final\")\n",
        "else:\n",
        "    print(\"Reprovado\")"
      ],
      "execution_count": 28,
      "outputs": [
        {
          "output_type": "stream",
          "text": [
            "digite a nota 1 = 10\n",
            "digite a nota 2 = 1\n",
            "digite a nota 3 = 0\n",
            "digite a nota 4 = 1\n",
            "Media =  3.0\n",
            "Reprovado\n"
          ],
          "name": "stdout"
        }
      ]
    },
    {
      "cell_type": "code",
      "metadata": {
        "colab": {
          "base_uri": "https://localhost:8080/"
        },
        "id": "Gl1qtQaBUlPp",
        "outputId": "03e7cb41-0fed-4506-e022-3cbc213a3502"
      },
      "source": [
        "print ('Verificar classe de lutador!')\n",
        "#peso_palha < 50\n",
        "#peso_pluma < 60\n",
        "#peso_leve < 76\n",
        "#peso_pesado < 88\n",
        "#peso_spesado > 87.999\n",
        "\n",
        "peso = float(input('Digite seu peso = '))\n",
        "if peso < 50:\n",
        "  print('Sua categoria é Peso Palha')\n",
        "elif peso < 60:\n",
        "  print('Sua categoria é Peso Pluma')\n",
        "elif peso < 76:\n",
        "  print('Sua categoria é Peso Leve')\n",
        "elif peso < 88:\n",
        "  print('Sua categoria é Peso Pesado')\n",
        "else:\n",
        "  print('Sua categoria é Peso Super Pesado')\n",
        "\n",
        "print ('Fim do programa!')\n"
      ],
      "execution_count": 56,
      "outputs": [
        {
          "output_type": "stream",
          "text": [
            "Verificar classe de lutador!\n",
            "Digite seu peso = 88\n",
            "Sua categoria é Peso Super Pesado\n",
            "Fim do programa!\n"
          ],
          "name": "stdout"
        }
      ]
    },
    {
      "cell_type": "code",
      "metadata": {
        "colab": {
          "base_uri": "https://localhost:8080/"
        },
        "id": "nAuIzU4EYqwa",
        "outputId": "f1cf6f6c-682c-4348-aa64-9eaaa0d8b523"
      },
      "source": [
        "ladoA = int(input(\"Digite o lado A = \"))\n",
        "ladoB = int(input(\"Digite o lado B = \"))\n",
        "ladoC = int(input(\"Digite o lado C = \"))\n",
        "if (ladoA < (ladoB + ladoC)) and (ladoB < (ladoA + ladoC)) and (ladoC < (ladoA + ladoB)):\n",
        "  if ((ladoA == ladoB) and (ladoB == ladoC)):\n",
        "    print(\"Triangulo Equilatero!\")\n",
        "  elif (ladoA == ladoB) or (ladoB == ladoC) or (ladoA == ladoC):\n",
        "    print(\"Triangulo Isosceles!\")\n",
        "  elif ((ladoA != ladoB) and (ladoB != ladoC) and (ladoA != ladoC)):\n",
        "    print(\"Triangulo Escaleno!\")\n",
        "else:\n",
        "  print(\"Lados não formam um triangulo!\")"
      ],
      "execution_count": 94,
      "outputs": [
        {
          "output_type": "stream",
          "text": [
            "Digite o lado A = 3\n",
            "Digite o lado B = 4\n",
            "Digite o lado C = 3\n",
            "Triangulo Isosceles!\n"
          ],
          "name": "stdout"
        }
      ]
    },
    {
      "cell_type": "code",
      "metadata": {
        "colab": {
          "base_uri": "https://localhost:8080/"
        },
        "id": "JsswK6SFZZJy",
        "outputId": "eaac3e29-8776-4f3b-cc0c-b29ea139690e"
      },
      "source": [
        "# Tabela Progressiva Imposto de Renda\n",
        "#de R$ 1.257,13 até R$ 2.512,08, alíquota de 15%\n",
        "#acima de R$ 2.512,08, alíquota de 27,5 %\n",
        "# Ler o salário de um funcionário e calcular o valor do desconto\n",
        "\n",
        "print('Calculadora de Desconto de Imposto de Renda.')\n",
        "print('Utilize apenas . ponto como separador!')\n",
        "salario = float(input('Digite o seu salário = R$ '))\n",
        "print ('Seu salário é de R$ ',salario, 'reais')\n",
        "if salario <= 1257.13:\n",
        "  print('Você não declara imposto de renda!')\n",
        "elif salario < 2512.09:\n",
        "  print('Seu desconto é de R$ ', salario/100*15,'reais')\n",
        "else:\n",
        "  print('Seu desconto é de R$ ', salario/100*27.5,'reais')\n",
        "\n",
        "print('Fim do programa!')"
      ],
      "execution_count": 85,
      "outputs": [
        {
          "output_type": "stream",
          "text": [
            "Calculadora de Desconto de Imposto de Renda.\n",
            "Utilize apenas . ponto como separador!\n",
            "Digite o seu salário = R$ 4700\n",
            "Seu salário é de R$  4700.0 reais\n",
            "Seu desconto é de R$  1292.5 reais\n",
            "Fim do programa!\n"
          ],
          "name": "stdout"
        }
      ]
    },
    {
      "cell_type": "code",
      "metadata": {
        "id": "kmGYsLGWc4zw"
      },
      "source": [
        ""
      ],
      "execution_count": null,
      "outputs": []
    }
  ]
}